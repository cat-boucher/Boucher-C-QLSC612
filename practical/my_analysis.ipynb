{
 "cells": [
  {
   "cell_type": "markdown",
   "metadata": {},
   "source": [
    "This following analysis code is a demonstration of generating false-positives (also known as p-hacking) using random data. We will be using an example dataset, brainsize.csv. We will be calculating correlation matrices with the random and collected data. To find the \"optimal\" distribution of random data yielding either significant (p<0.05) or non-significant (p>0.05) correlations, we will be iterating through a list of seeds which will vary the random sampling from a standard normal distribution.\n",
    "\n",
    "Requirements are listed in ReadMe.md\n",
    "\n",
    "We start off by importing the necessary libraries."
   ]
  },
  {
   "cell_type": "code",
   "execution_count": 20,
   "metadata": {},
   "outputs": [],
   "source": [
    "import pandas as pd\n",
    "import numpy as np\n",
    "import matplotlib.pyplot as plt\n",
    "import seaborn as sns\n",
    "from scipy.stats import pearsonr"
   ]
  },
  {
   "cell_type": "markdown",
   "metadata": {},
   "source": [
    "The following five functions will be used to conduct our analysis."
   ]
  },
  {
   "cell_type": "markdown",
   "metadata": {},
   "source": [
    "This function will load the dataset from a csv file, and return a pandas dataframe. The csv file is specified using its filepath."
   ]
  },
  {
   "cell_type": "code",
   "execution_count": 21,
   "metadata": {},
   "outputs": [],
   "source": [
    "def load_data(filepath):\n",
    "\treturn pd.read_csv(filepath, sep=';')"
   ]
  },
  {
   "cell_type": "markdown",
   "metadata": {},
   "source": [
    "This function will clean the dataframe from our example dataset. The column \"Unnamed: 0\" is removed, as the dataset already has its own indices. It replaces periods with NaNs, and converts Height and Weight object dtypes to float dtypes."
   ]
  },
  {
   "cell_type": "code",
   "execution_count": 22,
   "metadata": {},
   "outputs": [],
   "source": [
    "def clean_data(df):\n",
    "\tdf.replace({'.': np.nan}, inplace=True)\n",
    "\tdf = df.drop(columns='Unnamed: 0')\n",
    "\tdf['Height'] = df['Height'].astype(float)\n",
    "\tdf['Weight'] = df['Weight'].astype(float)\n",
    "\treturn df"
   ]
  },
  {
   "cell_type": "markdown",
   "metadata": {},
   "source": [
    "This function will add a column of random noise, from a standard normal distribution with a set seed, to the dataframe."
   ]
  },
  {
   "cell_type": "code",
   "execution_count": 23,
   "metadata": {},
   "outputs": [],
   "source": [
    "def add_noise(df, col_name, seed):\n",
    "\tlen_rows = df.shape[0]\n",
    "\tnp.random.seed(seed)\n",
    "\tpartY = np.random.standard_normal(len_rows)\n",
    "\tdf[col_name] = partY\n",
    "\treturn df"
   ]
  },
  {
   "cell_type": "markdown",
   "metadata": {},
   "source": [
    "The following first function returns the p-value for a pearson correlation. It is used in the second function, which returns a correlation matrix for the whole dataframe."
   ]
  },
  {
   "cell_type": "code",
   "execution_count": 24,
   "metadata": {},
   "outputs": [],
   "source": [
    "def pearsonr_pval(x,y):\n",
    "\treturn pearsonr(x,y)[1]\n",
    "\n",
    "\n",
    "def generate_corr(df, col_name):\n",
    "\tcorr = df.corr(method=pearsonr_pval)[col_name]\n",
    "\treturn corr"
   ]
  },
  {
   "cell_type": "markdown",
   "metadata": {},
   "source": [
    "The following code loads the .csv dataset, cleans the data, and sets a maximum seed value for finding significant correlations."
   ]
  },
  {
   "cell_type": "code",
   "execution_count": 25,
   "metadata": {},
   "outputs": [],
   "source": [
    "brainsize_csv_filepath = \"./brainsize.csv\"\n",
    "df = load_data(brainsize_csv_filepath)\n",
    "df = clean_data(df)\n",
    "seed_max = 1000000"
   ]
  },
  {
   "cell_type": "markdown",
   "metadata": {},
   "source": [
    "This for loop will search seeds, up to the pre-set max, in order to find one that yields at least 5 significant correlations (p<0.05) between the random and collected data. The p-values and seed are printed."
   ]
  },
  {
   "cell_type": "code",
   "execution_count": 26,
   "metadata": {},
   "outputs": [
    {
     "name": "stdout",
     "output_type": "stream",
     "text": [
      "Correlations Successful, where p < 0.05:\n",
      "FSIQ         0.015062\n",
      "VIQ          0.013803\n",
      "PIQ          0.042275\n",
      "Weight       0.014603\n",
      "Height       0.023728\n",
      "MRI_Count    0.001682\n",
      "partY        1.000000\n",
      "Name: partY, dtype: float64\n",
      "Iteration had size:  6  with seed:  15210\n"
     ]
    }
   ],
   "source": [
    "for seed_i in range(seed_max):\n",
    "    df = add_noise(df, 'partY', seed_i)\n",
    "    corr = generate_corr(df, 'partY')\n",
    "    sig_corr = corr.where(corr.abs() < 0.05).dropna()\n",
    "    if sig_corr.shape[0] > 5:\n",
    "        print('Correlations Successful, where p < 0.05:')\n",
    "        print(corr)\n",
    "        print('Iteration had size: ', sig_corr.shape[0], ' with seed: ', seed_i)\n",
    "        break"
   ]
  },
  {
   "cell_type": "markdown",
   "metadata": {},
   "source": [
    "This for loop will search seeds, up to the pre-set max, in order to find one that yields at least 6 non-significant correlations (p>0.05) between the random and collected data. The p-values and seed are printed."
   ]
  },
  {
   "cell_type": "code",
   "execution_count": 27,
   "metadata": {
    "scrolled": true
   },
   "outputs": [
    {
     "name": "stdout",
     "output_type": "stream",
     "text": [
      "Correlations Successful, where p > 0.05 across most:\n",
      "FSIQ         0.948410\n",
      "VIQ          0.855310\n",
      "PIQ          0.563705\n",
      "Weight       0.083650\n",
      "Height       0.122112\n",
      "MRI_Count    0.044080\n",
      "partY        0.583169\n",
      "partY2       1.000000\n",
      "Name: partY2, dtype: float64\n",
      "Iteration had size:  7  with seed:  1\n"
     ]
    }
   ],
   "source": [
    "for seed_j in range(seed_max):\n",
    "    df2 = add_noise(df, 'partY2', seed_j)\n",
    "    corr2 = generate_corr(df2, 'partY2')\n",
    "    sig_corr2 = corr2.where(corr2.abs() >= 0.05).dropna()\n",
    "    if sig_corr2.shape[0] > 6:\n",
    "        print('Correlations Successful, where p > 0.05 across most:')\n",
    "        print(corr2)\n",
    "        print('Iteration had size: ', sig_corr2.shape[0], ' with seed: ', seed_j)\n",
    "        break"
   ]
  },
  {
   "cell_type": "markdown",
   "metadata": {},
   "source": [
    "This code will illustrate the correlation matrix as a heatmap. Notice how partY correlates with the rest of the dataset with values greater than -0.4, and how partY2 correlates with the rest of the dataset with values around 0."
   ]
  },
  {
   "cell_type": "code",
   "execution_count": 28,
   "metadata": {},
   "outputs": [
    {
     "data": {
      "image/png": "[encoded data removed]",
      "text/plain": [
       "<Figure size 432x288 with 2 Axes>"
      ]
     },
     "metadata": {
      "needs_background": "light"
     },
     "output_type": "display_data"
    }
   ],
   "source": [
    "ax = sns.heatmap(df2.corr(), linewidth=0.5)\n",
    "plt.show()"
   ]
  }
 ],
 "metadata": {
  "kernelspec": {
   "display_name": "Python 3",
   "language": "python",
   "name": "python3"
  },
  "language_info": {
   "codemirror_mode": {
    "name": "ipython",
    "version": 3
   },
   "file_extension": ".py",
   "mimetype": "text/x-python",
   "name": "python",
   "nbconvert_exporter": "python",
   "pygments_lexer": "ipython3",
   "version": "3.7.6"
  }
 },
 "nbformat": 4,
 "nbformat_minor": 4
}
